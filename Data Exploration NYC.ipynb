{
 "cells": [
  {
   "cell_type": "markdown",
   "metadata": {},
   "source": [
    "# Data Exploration\n",
    "In a city as busy as New York, there is a constant presence of cranes and construction crews. Between the new businesses, residences, and attractions that are constructed in the city each year one can only wonder just how much construction is taking place. A great way to find out is by researching the number of building permits the New York City Department of Buildings issues each year, since permits are required before beginning any construction in the city."
   ]
  },
  {
   "cell_type": "code",
   "execution_count": 1,
   "metadata": {},
   "outputs": [],
   "source": [
    "# Import libraries\n",
    "import pandas as pd\n",
    "import seaborn as sns\n",
    "import geopandas as gp\n",
    "import matplotlib.pyplot as plt\n",
    "from __future__ import division\n",
    "from geopandas import GeoDataFrame \n",
    "\n",
    "# Set max column display width to 55\n",
    "pd.set_option(\"display.max_columns\", 55)"
   ]
  },
  {
   "cell_type": "markdown",
   "metadata": {},
   "source": [
    "# Read the Data\n",
    "To get started with the analysis, we will load the data set saved in the local drive. We will need to do this in order to manipulate the data using the pandas library.\n",
    "\n",
    "Viewing the data helped in getting a sense of what the data contained but we will take things a bit further by creating graphs and maps below."
   ]
  },
  {
   "cell_type": "code",
   "execution_count": 2,
   "metadata": {},
   "outputs": [],
   "source": [
    "df = pd.read_csv('C:/Users/ansha/Desktop/DOB_Permit_Issuance.csv', low_memory=False)"
   ]
  },
  {
   "cell_type": "code",
   "execution_count": 3,
   "metadata": {},
   "outputs": [
    {
     "data": {
      "text/html": [
       "<div>\n",
       "<style scoped>\n",
       "    .dataframe tbody tr th:only-of-type {\n",
       "        vertical-align: middle;\n",
       "    }\n",
       "\n",
       "    .dataframe tbody tr th {\n",
       "        vertical-align: top;\n",
       "    }\n",
       "\n",
       "    .dataframe thead th {\n",
       "        text-align: right;\n",
       "    }\n",
       "</style>\n",
       "<table border=\"1\" class=\"dataframe\">\n",
       "  <thead>\n",
       "    <tr style=\"text-align: right;\">\n",
       "      <th></th>\n",
       "      <th></th>\n",
       "      <th>Bin #</th>\n",
       "      <th>House #</th>\n",
       "      <th>Street Name</th>\n",
       "      <th>Job #</th>\n",
       "      <th>Job doc. #</th>\n",
       "      <th>Job Type</th>\n",
       "      <th>Self_Cert</th>\n",
       "      <th>Block</th>\n",
       "      <th>Lot</th>\n",
       "      <th>Community Board</th>\n",
       "      <th>Zip Code</th>\n",
       "      <th>Bldg Type</th>\n",
       "      <th>Residential</th>\n",
       "      <th>Special District 1</th>\n",
       "      <th>Special District 2</th>\n",
       "      <th>Work Type</th>\n",
       "      <th>Permit Status</th>\n",
       "      <th>Filing Status</th>\n",
       "      <th>Permit Type</th>\n",
       "      <th>Permit Sequence #</th>\n",
       "      <th>Permit Subtype</th>\n",
       "      <th>Oil Gas</th>\n",
       "      <th>Site Fill</th>\n",
       "      <th>Filing Date</th>\n",
       "      <th>Issuance Date</th>\n",
       "      <th>Expiration Date</th>\n",
       "      <th>...</th>\n",
       "      <th>Permittee's License #</th>\n",
       "      <th>Act as Superintendent</th>\n",
       "      <th>Permittee's Other Title</th>\n",
       "      <th>HIC License</th>\n",
       "      <th>Site Safety Mgr's First Name</th>\n",
       "      <th>Site Safety Mgr's Last Name</th>\n",
       "      <th>Site Safety Mgr Business Name</th>\n",
       "      <th>Superintendent First &amp; Last Name</th>\n",
       "      <th>Superintendent Business Name</th>\n",
       "      <th>Owner's Business Type</th>\n",
       "      <th>Non-Profit</th>\n",
       "      <th>Owner's Business Name</th>\n",
       "      <th>Owner's First Name</th>\n",
       "      <th>Owner's Last Name</th>\n",
       "      <th>Owner's House #</th>\n",
       "      <th>Owner's House Street Name</th>\n",
       "      <th>Owner’s House City</th>\n",
       "      <th>Owner’s House State</th>\n",
       "      <th>Owner’s House Zip Code</th>\n",
       "      <th>Owner's Phone #</th>\n",
       "      <th>DOBRunDate</th>\n",
       "      <th>PERMIT_SI_NO</th>\n",
       "      <th>LATITUDE</th>\n",
       "      <th>LONGITUDE</th>\n",
       "      <th>COUNCIL_DISTRICT</th>\n",
       "      <th>CENSUS_TRACT</th>\n",
       "      <th>NTA_NAME</th>\n",
       "    </tr>\n",
       "  </thead>\n",
       "  <tbody>\n",
       "    <tr>\n",
       "      <th>0</th>\n",
       "      <td>BRONX</td>\n",
       "      <td>2102476</td>\n",
       "      <td>200</td>\n",
       "      <td>E 135TH STREET</td>\n",
       "      <td>240249842</td>\n",
       "      <td>1</td>\n",
       "      <td>A2</td>\n",
       "      <td>Y</td>\n",
       "      <td>2319</td>\n",
       "      <td>120</td>\n",
       "      <td>201.0</td>\n",
       "      <td>10451.0</td>\n",
       "      <td>2.0</td>\n",
       "      <td>NaN</td>\n",
       "      <td>NaN</td>\n",
       "      <td>NaN</td>\n",
       "      <td>PL</td>\n",
       "      <td>ISSUED</td>\n",
       "      <td>INITIAL</td>\n",
       "      <td>PL</td>\n",
       "      <td>1</td>\n",
       "      <td>NaN</td>\n",
       "      <td>NaN</td>\n",
       "      <td>NOT APPLICABLE</td>\n",
       "      <td>3/26/2019 0:00</td>\n",
       "      <td>3/26/2019 0:00</td>\n",
       "      <td>3/25/2020 0:00</td>\n",
       "      <td>...</td>\n",
       "      <td>1548.0</td>\n",
       "      <td>NaN</td>\n",
       "      <td>NaN</td>\n",
       "      <td>NaN</td>\n",
       "      <td>NaN</td>\n",
       "      <td>NaN</td>\n",
       "      <td>NaN</td>\n",
       "      <td>NaN</td>\n",
       "      <td>NaN</td>\n",
       "      <td>PARTNERSHIP</td>\n",
       "      <td>N</td>\n",
       "      <td>CUBESMART LP</td>\n",
       "      <td>MARK</td>\n",
       "      <td>SHORTLIDGE</td>\n",
       "      <td>5</td>\n",
       "      <td>OLD LANCATER ROAD</td>\n",
       "      <td>MALVERN</td>\n",
       "      <td>PA</td>\n",
       "      <td>19355</td>\n",
       "      <td>6104011458</td>\n",
       "      <td>3/27/2019 0:00</td>\n",
       "      <td>3608996</td>\n",
       "      <td>40.810699</td>\n",
       "      <td>-73.931313</td>\n",
       "      <td>8.0</td>\n",
       "      <td>51.0</td>\n",
       "      <td>Mott Haven-Port Morris</td>\n",
       "    </tr>\n",
       "    <tr>\n",
       "      <th>1</th>\n",
       "      <td>MANHATTAN</td>\n",
       "      <td>1090833</td>\n",
       "      <td>249</td>\n",
       "      <td>WEST 14 STREET</td>\n",
       "      <td>140818435</td>\n",
       "      <td>1</td>\n",
       "      <td>A3</td>\n",
       "      <td>Y</td>\n",
       "      <td>764</td>\n",
       "      <td>10</td>\n",
       "      <td>104.0</td>\n",
       "      <td>10011.0</td>\n",
       "      <td>2.0</td>\n",
       "      <td>NaN</td>\n",
       "      <td>NaN</td>\n",
       "      <td>NaN</td>\n",
       "      <td>EQ</td>\n",
       "      <td>ISSUED</td>\n",
       "      <td>INITIAL</td>\n",
       "      <td>EQ</td>\n",
       "      <td>1</td>\n",
       "      <td>OT</td>\n",
       "      <td>NaN</td>\n",
       "      <td>NaN</td>\n",
       "      <td>3/26/2019 0:00</td>\n",
       "      <td>3/26/2019 0:00</td>\n",
       "      <td>3/25/2020 0:00</td>\n",
       "      <td>...</td>\n",
       "      <td>607447.0</td>\n",
       "      <td>NaN</td>\n",
       "      <td>NaN</td>\n",
       "      <td>NaN</td>\n",
       "      <td>NaN</td>\n",
       "      <td>NaN</td>\n",
       "      <td>NaN</td>\n",
       "      <td>NaN</td>\n",
       "      <td>NaN</td>\n",
       "      <td>PARTNERSHIP</td>\n",
       "      <td>N</td>\n",
       "      <td>SPRING SCAFFOLDING LLC</td>\n",
       "      <td>WILLIAM</td>\n",
       "      <td>LAFFEY</td>\n",
       "      <td>49-30</td>\n",
       "      <td>31ST PLACE</td>\n",
       "      <td>LIC</td>\n",
       "      <td>NY</td>\n",
       "      <td>11101</td>\n",
       "      <td>7183924921</td>\n",
       "      <td>3/27/2019 0:00</td>\n",
       "      <td>3609359</td>\n",
       "      <td>40.739151</td>\n",
       "      <td>-74.001075</td>\n",
       "      <td>3.0</td>\n",
       "      <td>81.0</td>\n",
       "      <td>Hudson Yards-Chelsea-Flatiron-Union Square</td>\n",
       "    </tr>\n",
       "    <tr>\n",
       "      <th>2</th>\n",
       "      <td>MANHATTAN</td>\n",
       "      <td>1015903</td>\n",
       "      <td>20</td>\n",
       "      <td>WEST 36TH STREET</td>\n",
       "      <td>123372466</td>\n",
       "      <td>2</td>\n",
       "      <td>A2</td>\n",
       "      <td>Y</td>\n",
       "      <td>837</td>\n",
       "      <td>58</td>\n",
       "      <td>105.0</td>\n",
       "      <td>10018.0</td>\n",
       "      <td>2.0</td>\n",
       "      <td>NaN</td>\n",
       "      <td>NaN</td>\n",
       "      <td>NaN</td>\n",
       "      <td>MH</td>\n",
       "      <td>ISSUED</td>\n",
       "      <td>INITIAL</td>\n",
       "      <td>EW</td>\n",
       "      <td>1</td>\n",
       "      <td>MH</td>\n",
       "      <td>NaN</td>\n",
       "      <td>NaN</td>\n",
       "      <td>3/26/2019 0:00</td>\n",
       "      <td>3/26/2019 0:00</td>\n",
       "      <td>7/18/2019 0:00</td>\n",
       "      <td>...</td>\n",
       "      <td>619626.0</td>\n",
       "      <td>NaN</td>\n",
       "      <td>NaN</td>\n",
       "      <td>NaN</td>\n",
       "      <td>NaN</td>\n",
       "      <td>NaN</td>\n",
       "      <td>NaN</td>\n",
       "      <td>NaN</td>\n",
       "      <td>NaN</td>\n",
       "      <td>CORPORATION</td>\n",
       "      <td>N</td>\n",
       "      <td>STATECOURT EN, C/O KOEPPEL ROSEN</td>\n",
       "      <td>DAVID</td>\n",
       "      <td>KOEPPEL</td>\n",
       "      <td>40</td>\n",
       "      <td>EAST 69TH STREET</td>\n",
       "      <td>NEW YORK</td>\n",
       "      <td>NY</td>\n",
       "      <td>10021</td>\n",
       "      <td>2122491550</td>\n",
       "      <td>3/27/2019 0:00</td>\n",
       "      <td>3609159</td>\n",
       "      <td>40.750090</td>\n",
       "      <td>-73.984513</td>\n",
       "      <td>4.0</td>\n",
       "      <td>84.0</td>\n",
       "      <td>Midtown-Midtown South</td>\n",
       "    </tr>\n",
       "    <tr>\n",
       "      <th>3</th>\n",
       "      <td>QUEENS</td>\n",
       "      <td>4467709</td>\n",
       "      <td>14-30</td>\n",
       "      <td>BROADWAY</td>\n",
       "      <td>421105618</td>\n",
       "      <td>1</td>\n",
       "      <td>A2</td>\n",
       "      <td>Y</td>\n",
       "      <td>529</td>\n",
       "      <td>2</td>\n",
       "      <td>401.0</td>\n",
       "      <td>11106.0</td>\n",
       "      <td>2.0</td>\n",
       "      <td>NaN</td>\n",
       "      <td>NaN</td>\n",
       "      <td>NaN</td>\n",
       "      <td>MH</td>\n",
       "      <td>ISSUED</td>\n",
       "      <td>RENEWAL</td>\n",
       "      <td>EW</td>\n",
       "      <td>2</td>\n",
       "      <td>MH</td>\n",
       "      <td>NaN</td>\n",
       "      <td>NOT APPLICABLE</td>\n",
       "      <td>3/26/2019 0:00</td>\n",
       "      <td>3/26/2019 0:00</td>\n",
       "      <td>9/15/2019 0:00</td>\n",
       "      <td>...</td>\n",
       "      <td>14698.0</td>\n",
       "      <td>NaN</td>\n",
       "      <td>NaN</td>\n",
       "      <td>NaN</td>\n",
       "      <td>NaN</td>\n",
       "      <td>NaN</td>\n",
       "      <td>NaN</td>\n",
       "      <td>NaN</td>\n",
       "      <td>NaN</td>\n",
       "      <td>NYC AGENCY</td>\n",
       "      <td>N</td>\n",
       "      <td>NYC SCA</td>\n",
       "      <td>EFTIHIA</td>\n",
       "      <td>TSITIRIDIS</td>\n",
       "      <td>30-30</td>\n",
       "      <td>THOMSON AVENUE</td>\n",
       "      <td>LONG ISLAND CIT</td>\n",
       "      <td>NY</td>\n",
       "      <td>11101</td>\n",
       "      <td>7184728000</td>\n",
       "      <td>3/27/2019 0:00</td>\n",
       "      <td>3609358</td>\n",
       "      <td>40.765826</td>\n",
       "      <td>-73.932800</td>\n",
       "      <td>22.0</td>\n",
       "      <td>45.0</td>\n",
       "      <td>Astoria</td>\n",
       "    </tr>\n",
       "    <tr>\n",
       "      <th>4</th>\n",
       "      <td>QUEENS</td>\n",
       "      <td>4048873</td>\n",
       "      <td>42-06</td>\n",
       "      <td>108 STREET</td>\n",
       "      <td>421024689</td>\n",
       "      <td>1</td>\n",
       "      <td>A1</td>\n",
       "      <td>N</td>\n",
       "      <td>1986</td>\n",
       "      <td>37</td>\n",
       "      <td>404.0</td>\n",
       "      <td>11368.0</td>\n",
       "      <td>2.0</td>\n",
       "      <td>YES</td>\n",
       "      <td>NaN</td>\n",
       "      <td>NaN</td>\n",
       "      <td>NaN</td>\n",
       "      <td>ISSUED</td>\n",
       "      <td>RENEWAL</td>\n",
       "      <td>AL</td>\n",
       "      <td>5</td>\n",
       "      <td>NaN</td>\n",
       "      <td>NaN</td>\n",
       "      <td>NOT APPLICABLE</td>\n",
       "      <td>3/21/2019 0:00</td>\n",
       "      <td>3/26/2019 0:00</td>\n",
       "      <td>3/25/2020 0:00</td>\n",
       "      <td>...</td>\n",
       "      <td>618937.0</td>\n",
       "      <td>NaN</td>\n",
       "      <td>NaN</td>\n",
       "      <td>NaN</td>\n",
       "      <td>NaN</td>\n",
       "      <td>NaN</td>\n",
       "      <td>NaN</td>\n",
       "      <td>JACKSON TAM</td>\n",
       "      <td>NaN</td>\n",
       "      <td>INDIVIDUAL</td>\n",
       "      <td>N</td>\n",
       "      <td>NaN</td>\n",
       "      <td>CALOGERO</td>\n",
       "      <td>MULE</td>\n",
       "      <td>42-06</td>\n",
       "      <td>108 STREET</td>\n",
       "      <td>QUEENS</td>\n",
       "      <td>NY</td>\n",
       "      <td>11368</td>\n",
       "      <td>7182785872</td>\n",
       "      <td>3/27/2019 0:00</td>\n",
       "      <td>3606599</td>\n",
       "      <td>40.749221</td>\n",
       "      <td>-73.858003</td>\n",
       "      <td>21.0</td>\n",
       "      <td>403.0</td>\n",
       "      <td>North Corona</td>\n",
       "    </tr>\n",
       "    <tr>\n",
       "      <th>5</th>\n",
       "      <td>BRONX</td>\n",
       "      <td>2085547</td>\n",
       "      <td>285</td>\n",
       "      <td>W 261 STREET</td>\n",
       "      <td>220690786</td>\n",
       "      <td>1</td>\n",
       "      <td>A2</td>\n",
       "      <td>Y</td>\n",
       "      <td>5884</td>\n",
       "      <td>1180</td>\n",
       "      <td>208.0</td>\n",
       "      <td>10471.0</td>\n",
       "      <td>1.0</td>\n",
       "      <td>YES</td>\n",
       "      <td>NaN</td>\n",
       "      <td>NaN</td>\n",
       "      <td>PL</td>\n",
       "      <td>ISSUED</td>\n",
       "      <td>INITIAL</td>\n",
       "      <td>PL</td>\n",
       "      <td>1</td>\n",
       "      <td>NaN</td>\n",
       "      <td>NaN</td>\n",
       "      <td>NOT APPLICABLE</td>\n",
       "      <td>3/26/2019 0:00</td>\n",
       "      <td>3/26/2019 0:00</td>\n",
       "      <td>3/25/2020 0:00</td>\n",
       "      <td>...</td>\n",
       "      <td>1682.0</td>\n",
       "      <td>NaN</td>\n",
       "      <td>NaN</td>\n",
       "      <td>NaN</td>\n",
       "      <td>NaN</td>\n",
       "      <td>NaN</td>\n",
       "      <td>NaN</td>\n",
       "      <td>NaN</td>\n",
       "      <td>NaN</td>\n",
       "      <td>INDIVIDUAL</td>\n",
       "      <td>N</td>\n",
       "      <td>NaN</td>\n",
       "      <td>ERIC</td>\n",
       "      <td>DIDOMENICO</td>\n",
       "      <td>285</td>\n",
       "      <td>WEST 261 STREET</td>\n",
       "      <td>BRONX</td>\n",
       "      <td>NY</td>\n",
       "      <td>10471</td>\n",
       "      <td>9179237974</td>\n",
       "      <td>3/27/2019 0:00</td>\n",
       "      <td>3609211</td>\n",
       "      <td>40.909601</td>\n",
       "      <td>-73.899786</td>\n",
       "      <td>11.0</td>\n",
       "      <td>337.0</td>\n",
       "      <td>North Riverdale-Fieldston-Riverdale</td>\n",
       "    </tr>\n",
       "    <tr>\n",
       "      <th>6</th>\n",
       "      <td>QUEENS</td>\n",
       "      <td>4094152</td>\n",
       "      <td>87-03</td>\n",
       "      <td>81ST  ROAD</td>\n",
       "      <td>421671097</td>\n",
       "      <td>1</td>\n",
       "      <td>A2</td>\n",
       "      <td>Y</td>\n",
       "      <td>3849</td>\n",
       "      <td>34</td>\n",
       "      <td>405.0</td>\n",
       "      <td>11385.0</td>\n",
       "      <td>2.0</td>\n",
       "      <td>YES</td>\n",
       "      <td>NaN</td>\n",
       "      <td>NaN</td>\n",
       "      <td>MH</td>\n",
       "      <td>ISSUED</td>\n",
       "      <td>RENEWAL</td>\n",
       "      <td>EW</td>\n",
       "      <td>2</td>\n",
       "      <td>MH</td>\n",
       "      <td>NaN</td>\n",
       "      <td>NOT APPLICABLE</td>\n",
       "      <td>3/26/2019 0:00</td>\n",
       "      <td>3/26/2019 0:00</td>\n",
       "      <td>2/16/2020 0:00</td>\n",
       "      <td>...</td>\n",
       "      <td>613674.0</td>\n",
       "      <td>NaN</td>\n",
       "      <td>NaN</td>\n",
       "      <td>NaN</td>\n",
       "      <td>NaN</td>\n",
       "      <td>NaN</td>\n",
       "      <td>NaN</td>\n",
       "      <td>NaN</td>\n",
       "      <td>NaN</td>\n",
       "      <td>INDIVIDUAL</td>\n",
       "      <td>N</td>\n",
       "      <td>HANOLI CAKES INC</td>\n",
       "      <td>MONICA</td>\n",
       "      <td>MENA</td>\n",
       "      <td>87-03</td>\n",
       "      <td>81ST ROAD</td>\n",
       "      <td>RIDGEWOOD</td>\n",
       "      <td>NY</td>\n",
       "      <td>11385</td>\n",
       "      <td>9177235735</td>\n",
       "      <td>3/27/2019 0:00</td>\n",
       "      <td>3608995</td>\n",
       "      <td>40.703178</td>\n",
       "      <td>-73.859847</td>\n",
       "      <td>30.0</td>\n",
       "      <td>639.0</td>\n",
       "      <td>Glendale</td>\n",
       "    </tr>\n",
       "    <tr>\n",
       "      <th>7</th>\n",
       "      <td>MANHATTAN</td>\n",
       "      <td>1058592</td>\n",
       "      <td>2288</td>\n",
       "      <td>FREDRICK DOUGLAS BLVD</td>\n",
       "      <td>123510487</td>\n",
       "      <td>1</td>\n",
       "      <td>A2</td>\n",
       "      <td>Y</td>\n",
       "      <td>1928</td>\n",
       "      <td>61</td>\n",
       "      <td>110.0</td>\n",
       "      <td>10027.0</td>\n",
       "      <td>2.0</td>\n",
       "      <td>NaN</td>\n",
       "      <td>NaN</td>\n",
       "      <td>NaN</td>\n",
       "      <td>PL</td>\n",
       "      <td>ISSUED</td>\n",
       "      <td>INITIAL</td>\n",
       "      <td>PL</td>\n",
       "      <td>1</td>\n",
       "      <td>NaN</td>\n",
       "      <td>NaN</td>\n",
       "      <td>NOT APPLICABLE</td>\n",
       "      <td>3/26/2019 0:00</td>\n",
       "      <td>3/26/2019 0:00</td>\n",
       "      <td>3/25/2020 0:00</td>\n",
       "      <td>...</td>\n",
       "      <td>1253.0</td>\n",
       "      <td>NaN</td>\n",
       "      <td>NaN</td>\n",
       "      <td>NaN</td>\n",
       "      <td>NaN</td>\n",
       "      <td>NaN</td>\n",
       "      <td>NaN</td>\n",
       "      <td>NaN</td>\n",
       "      <td>NaN</td>\n",
       "      <td>CORPORATION</td>\n",
       "      <td>N</td>\n",
       "      <td>SIDO</td>\n",
       "      <td>EMILE</td>\n",
       "      <td>AKLEH</td>\n",
       "      <td>2288</td>\n",
       "      <td>FREDRICK DOUGLAS BLVD</td>\n",
       "      <td>NEW YORK</td>\n",
       "      <td>NY</td>\n",
       "      <td>10027</td>\n",
       "      <td>9173593323</td>\n",
       "      <td>3/27/2019 0:00</td>\n",
       "      <td>3609356</td>\n",
       "      <td>40.808766</td>\n",
       "      <td>-73.952183</td>\n",
       "      <td>9.0</td>\n",
       "      <td>222.0</td>\n",
       "      <td>Central Harlem South</td>\n",
       "    </tr>\n",
       "    <tr>\n",
       "      <th>8</th>\n",
       "      <td>QUEENS</td>\n",
       "      <td>4617617</td>\n",
       "      <td>157</td>\n",
       "      <td>BEACH 96 STREET</td>\n",
       "      <td>421360084</td>\n",
       "      <td>1</td>\n",
       "      <td>NB</td>\n",
       "      <td>N</td>\n",
       "      <td>16169</td>\n",
       "      <td>65</td>\n",
       "      <td>414.0</td>\n",
       "      <td>11693.0</td>\n",
       "      <td>2.0</td>\n",
       "      <td>YES</td>\n",
       "      <td>NaN</td>\n",
       "      <td>NaN</td>\n",
       "      <td>NaN</td>\n",
       "      <td>ISSUED</td>\n",
       "      <td>RENEWAL</td>\n",
       "      <td>FO</td>\n",
       "      <td>3</td>\n",
       "      <td>EA</td>\n",
       "      <td>NaN</td>\n",
       "      <td>ON-SITE</td>\n",
       "      <td>3/26/2019 0:00</td>\n",
       "      <td>3/26/2019 0:00</td>\n",
       "      <td>4/1/2020 0:00</td>\n",
       "      <td>...</td>\n",
       "      <td>15266.0</td>\n",
       "      <td>NaN</td>\n",
       "      <td>NaN</td>\n",
       "      <td>NaN</td>\n",
       "      <td>NaN</td>\n",
       "      <td>NaN</td>\n",
       "      <td>NaN</td>\n",
       "      <td>ROCCO SPERO</td>\n",
       "      <td>METRO MECHANICAL LLC</td>\n",
       "      <td>CORPORATION</td>\n",
       "      <td>N</td>\n",
       "      <td>ADMIRAL PROPERTY GROUP LLC</td>\n",
       "      <td>PETER</td>\n",
       "      <td>EVANGELISTA</td>\n",
       "      <td>6833</td>\n",
       "      <td>SHORE ROAD</td>\n",
       "      <td>BROOKLYN</td>\n",
       "      <td>NY</td>\n",
       "      <td>11220</td>\n",
       "      <td>7182418500</td>\n",
       "      <td>3/27/2019 0:00</td>\n",
       "      <td>3609444</td>\n",
       "      <td>40.584238</td>\n",
       "      <td>-73.817390</td>\n",
       "      <td>32.0</td>\n",
       "      <td>94201.0</td>\n",
       "      <td>Breezy Point-Belle Harbor-Rockaway Park-Broad ...</td>\n",
       "    </tr>\n",
       "    <tr>\n",
       "      <th>9</th>\n",
       "      <td>BROOKLYN</td>\n",
       "      <td>3006277</td>\n",
       "      <td>58</td>\n",
       "      <td>SAINT MARKS PLACE</td>\n",
       "      <td>321916414</td>\n",
       "      <td>1</td>\n",
       "      <td>A2</td>\n",
       "      <td>N</td>\n",
       "      <td>395</td>\n",
       "      <td>30</td>\n",
       "      <td>302.0</td>\n",
       "      <td>11217.0</td>\n",
       "      <td>2.0</td>\n",
       "      <td>YES</td>\n",
       "      <td>NaN</td>\n",
       "      <td>NaN</td>\n",
       "      <td>OT</td>\n",
       "      <td>RE-ISSUED</td>\n",
       "      <td>INITIAL</td>\n",
       "      <td>EW</td>\n",
       "      <td>1</td>\n",
       "      <td>OT</td>\n",
       "      <td>NaN</td>\n",
       "      <td>ON-SITE</td>\n",
       "      <td>3/26/2019 0:00</td>\n",
       "      <td>3/26/2019 0:00</td>\n",
       "      <td>3/15/2020 0:00</td>\n",
       "      <td>...</td>\n",
       "      <td>617110.0</td>\n",
       "      <td>NaN</td>\n",
       "      <td>NaN</td>\n",
       "      <td>NaN</td>\n",
       "      <td>NaN</td>\n",
       "      <td>NaN</td>\n",
       "      <td>NaN</td>\n",
       "      <td>NaN</td>\n",
       "      <td>NaN</td>\n",
       "      <td>PARTNERSHIP</td>\n",
       "      <td>N</td>\n",
       "      <td>4TH AVENUE DEVELOPMENT OWNER LLC</td>\n",
       "      <td>SHLOMI</td>\n",
       "      <td>AVDOO</td>\n",
       "      <td>105</td>\n",
       "      <td>CENTRAL AVENUE</td>\n",
       "      <td>BROOKLYN</td>\n",
       "      <td>NY</td>\n",
       "      <td>11206</td>\n",
       "      <td>9174167231</td>\n",
       "      <td>3/27/2019 0:00</td>\n",
       "      <td>3609163</td>\n",
       "      <td>40.682113</td>\n",
       "      <td>-73.980718</td>\n",
       "      <td>33.0</td>\n",
       "      <td>127.0</td>\n",
       "      <td>DUMBO-Vinegar Hill-Downtown Brooklyn-Boerum Hill</td>\n",
       "    </tr>\n",
       "  </tbody>\n",
       "</table>\n",
       "<p>10 rows × 60 columns</p>\n",
       "</div>"
      ],
      "text/plain": [
       "                Bin # House #            Street Name      Job #  Job doc. #  \\\n",
       "0      BRONX  2102476     200         E 135TH STREET  240249842           1   \n",
       "1  MANHATTAN  1090833     249         WEST 14 STREET  140818435           1   \n",
       "2  MANHATTAN  1015903      20       WEST 36TH STREET  123372466           2   \n",
       "3     QUEENS  4467709   14-30               BROADWAY  421105618           1   \n",
       "4     QUEENS  4048873   42-06             108 STREET  421024689           1   \n",
       "5      BRONX  2085547     285           W 261 STREET  220690786           1   \n",
       "6     QUEENS  4094152   87-03             81ST  ROAD  421671097           1   \n",
       "7  MANHATTAN  1058592    2288  FREDRICK DOUGLAS BLVD  123510487           1   \n",
       "8     QUEENS  4617617     157        BEACH 96 STREET  421360084           1   \n",
       "9   BROOKLYN  3006277      58      SAINT MARKS PLACE  321916414           1   \n",
       "\n",
       "  Job Type Self_Cert  Block   Lot  Community Board  Zip Code  Bldg Type  \\\n",
       "0       A2         Y   2319   120            201.0   10451.0        2.0   \n",
       "1       A3         Y    764    10            104.0   10011.0        2.0   \n",
       "2       A2         Y    837    58            105.0   10018.0        2.0   \n",
       "3       A2         Y    529     2            401.0   11106.0        2.0   \n",
       "4       A1         N   1986    37            404.0   11368.0        2.0   \n",
       "5       A2         Y   5884  1180            208.0   10471.0        1.0   \n",
       "6       A2         Y   3849    34            405.0   11385.0        2.0   \n",
       "7       A2         Y   1928    61            110.0   10027.0        2.0   \n",
       "8       NB         N  16169    65            414.0   11693.0        2.0   \n",
       "9       A2         N    395    30            302.0   11217.0        2.0   \n",
       "\n",
       "  Residential Special District 1 Special District 2 Work Type Permit Status  \\\n",
       "0         NaN                NaN                NaN        PL        ISSUED   \n",
       "1         NaN                NaN                NaN        EQ        ISSUED   \n",
       "2         NaN                NaN                NaN        MH        ISSUED   \n",
       "3         NaN                NaN                NaN        MH        ISSUED   \n",
       "4         YES                NaN                NaN       NaN        ISSUED   \n",
       "5         YES                NaN                NaN        PL        ISSUED   \n",
       "6         YES                NaN                NaN        MH        ISSUED   \n",
       "7         NaN                NaN                NaN        PL        ISSUED   \n",
       "8         YES                NaN                NaN       NaN        ISSUED   \n",
       "9         YES                NaN                NaN        OT     RE-ISSUED   \n",
       "\n",
       "  Filing Status Permit Type  Permit Sequence # Permit Subtype Oil Gas  \\\n",
       "0       INITIAL          PL                  1            NaN     NaN   \n",
       "1       INITIAL          EQ                  1             OT     NaN   \n",
       "2       INITIAL          EW                  1             MH     NaN   \n",
       "3       RENEWAL          EW                  2             MH     NaN   \n",
       "4       RENEWAL          AL                  5            NaN     NaN   \n",
       "5       INITIAL          PL                  1            NaN     NaN   \n",
       "6       RENEWAL          EW                  2             MH     NaN   \n",
       "7       INITIAL          PL                  1            NaN     NaN   \n",
       "8       RENEWAL          FO                  3             EA     NaN   \n",
       "9       INITIAL          EW                  1             OT     NaN   \n",
       "\n",
       "        Site Fill     Filing Date   Issuance Date Expiration Date  \\\n",
       "0  NOT APPLICABLE  3/26/2019 0:00  3/26/2019 0:00  3/25/2020 0:00   \n",
       "1             NaN  3/26/2019 0:00  3/26/2019 0:00  3/25/2020 0:00   \n",
       "2             NaN  3/26/2019 0:00  3/26/2019 0:00  7/18/2019 0:00   \n",
       "3  NOT APPLICABLE  3/26/2019 0:00  3/26/2019 0:00  9/15/2019 0:00   \n",
       "4  NOT APPLICABLE  3/21/2019 0:00  3/26/2019 0:00  3/25/2020 0:00   \n",
       "5  NOT APPLICABLE  3/26/2019 0:00  3/26/2019 0:00  3/25/2020 0:00   \n",
       "6  NOT APPLICABLE  3/26/2019 0:00  3/26/2019 0:00  2/16/2020 0:00   \n",
       "7  NOT APPLICABLE  3/26/2019 0:00  3/26/2019 0:00  3/25/2020 0:00   \n",
       "8         ON-SITE  3/26/2019 0:00  3/26/2019 0:00   4/1/2020 0:00   \n",
       "9         ON-SITE  3/26/2019 0:00  3/26/2019 0:00  3/15/2020 0:00   \n",
       "\n",
       "                         ...                         Permittee's License #  \\\n",
       "0                        ...                                        1548.0   \n",
       "1                        ...                                      607447.0   \n",
       "2                        ...                                      619626.0   \n",
       "3                        ...                                       14698.0   \n",
       "4                        ...                                      618937.0   \n",
       "5                        ...                                        1682.0   \n",
       "6                        ...                                      613674.0   \n",
       "7                        ...                                        1253.0   \n",
       "8                        ...                                       15266.0   \n",
       "9                        ...                                      617110.0   \n",
       "\n",
       "  Act as Superintendent Permittee's Other Title HIC License  \\\n",
       "0                   NaN                     NaN         NaN   \n",
       "1                   NaN                     NaN         NaN   \n",
       "2                   NaN                     NaN         NaN   \n",
       "3                   NaN                     NaN         NaN   \n",
       "4                   NaN                     NaN         NaN   \n",
       "5                   NaN                     NaN         NaN   \n",
       "6                   NaN                     NaN         NaN   \n",
       "7                   NaN                     NaN         NaN   \n",
       "8                   NaN                     NaN         NaN   \n",
       "9                   NaN                     NaN         NaN   \n",
       "\n",
       "  Site Safety Mgr's First Name Site Safety Mgr's Last Name  \\\n",
       "0                          NaN                         NaN   \n",
       "1                          NaN                         NaN   \n",
       "2                          NaN                         NaN   \n",
       "3                          NaN                         NaN   \n",
       "4                          NaN                         NaN   \n",
       "5                          NaN                         NaN   \n",
       "6                          NaN                         NaN   \n",
       "7                          NaN                         NaN   \n",
       "8                          NaN                         NaN   \n",
       "9                          NaN                         NaN   \n",
       "\n",
       "   Site Safety Mgr Business Name Superintendent First & Last Name  \\\n",
       "0                            NaN                              NaN   \n",
       "1                            NaN                              NaN   \n",
       "2                            NaN                              NaN   \n",
       "3                            NaN                              NaN   \n",
       "4                            NaN                      JACKSON TAM   \n",
       "5                            NaN                              NaN   \n",
       "6                            NaN                              NaN   \n",
       "7                            NaN                              NaN   \n",
       "8                            NaN                      ROCCO SPERO   \n",
       "9                            NaN                              NaN   \n",
       "\n",
       "  Superintendent Business Name  Owner's Business Type Non-Profit  \\\n",
       "0                          NaN            PARTNERSHIP          N   \n",
       "1                          NaN            PARTNERSHIP          N   \n",
       "2                          NaN            CORPORATION          N   \n",
       "3                          NaN             NYC AGENCY          N   \n",
       "4                          NaN             INDIVIDUAL          N   \n",
       "5                          NaN             INDIVIDUAL          N   \n",
       "6                          NaN             INDIVIDUAL          N   \n",
       "7                          NaN            CORPORATION          N   \n",
       "8         METRO MECHANICAL LLC            CORPORATION          N   \n",
       "9                          NaN            PARTNERSHIP          N   \n",
       "\n",
       "              Owner's Business Name Owner's First Name Owner's Last Name  \\\n",
       "0                      CUBESMART LP               MARK        SHORTLIDGE   \n",
       "1            SPRING SCAFFOLDING LLC            WILLIAM            LAFFEY   \n",
       "2  STATECOURT EN, C/O KOEPPEL ROSEN              DAVID           KOEPPEL   \n",
       "3                           NYC SCA            EFTIHIA        TSITIRIDIS   \n",
       "4                               NaN           CALOGERO              MULE   \n",
       "5                               NaN               ERIC        DIDOMENICO   \n",
       "6                  HANOLI CAKES INC             MONICA              MENA   \n",
       "7                              SIDO              EMILE             AKLEH   \n",
       "8        ADMIRAL PROPERTY GROUP LLC              PETER       EVANGELISTA   \n",
       "9  4TH AVENUE DEVELOPMENT OWNER LLC             SHLOMI             AVDOO   \n",
       "\n",
       "  Owner's House # Owner's House Street Name Owner’s House City  \\\n",
       "0               5         OLD LANCATER ROAD            MALVERN   \n",
       "1           49-30                31ST PLACE                LIC   \n",
       "2              40          EAST 69TH STREET           NEW YORK   \n",
       "3           30-30            THOMSON AVENUE    LONG ISLAND CIT   \n",
       "4           42-06                108 STREET             QUEENS   \n",
       "5             285           WEST 261 STREET              BRONX   \n",
       "6           87-03                 81ST ROAD          RIDGEWOOD   \n",
       "7            2288     FREDRICK DOUGLAS BLVD           NEW YORK   \n",
       "8            6833                SHORE ROAD           BROOKLYN   \n",
       "9             105            CENTRAL AVENUE           BROOKLYN   \n",
       "\n",
       "  Owner’s House State Owner’s House Zip Code Owner's Phone #      DOBRunDate  \\\n",
       "0                  PA                  19355      6104011458  3/27/2019 0:00   \n",
       "1                  NY                  11101      7183924921  3/27/2019 0:00   \n",
       "2                  NY                  10021      2122491550  3/27/2019 0:00   \n",
       "3                  NY                  11101      7184728000  3/27/2019 0:00   \n",
       "4                  NY                  11368      7182785872  3/27/2019 0:00   \n",
       "5                  NY                  10471      9179237974  3/27/2019 0:00   \n",
       "6                  NY                  11385      9177235735  3/27/2019 0:00   \n",
       "7                  NY                  10027      9173593323  3/27/2019 0:00   \n",
       "8                  NY                  11220      7182418500  3/27/2019 0:00   \n",
       "9                  NY                  11206      9174167231  3/27/2019 0:00   \n",
       "\n",
       "  PERMIT_SI_NO   LATITUDE  LONGITUDE COUNCIL_DISTRICT CENSUS_TRACT  \\\n",
       "0      3608996  40.810699 -73.931313              8.0         51.0   \n",
       "1      3609359  40.739151 -74.001075              3.0         81.0   \n",
       "2      3609159  40.750090 -73.984513              4.0         84.0   \n",
       "3      3609358  40.765826 -73.932800             22.0         45.0   \n",
       "4      3606599  40.749221 -73.858003             21.0        403.0   \n",
       "5      3609211  40.909601 -73.899786             11.0        337.0   \n",
       "6      3608995  40.703178 -73.859847             30.0        639.0   \n",
       "7      3609356  40.808766 -73.952183              9.0        222.0   \n",
       "8      3609444  40.584238 -73.817390             32.0      94201.0   \n",
       "9      3609163  40.682113 -73.980718             33.0        127.0   \n",
       "\n",
       "                                            NTA_NAME  \n",
       "0                             Mott Haven-Port Morris  \n",
       "1         Hudson Yards-Chelsea-Flatiron-Union Square  \n",
       "2                              Midtown-Midtown South  \n",
       "3                                            Astoria  \n",
       "4                                       North Corona  \n",
       "5                North Riverdale-Fieldston-Riverdale  \n",
       "6                                           Glendale  \n",
       "7                               Central Harlem South  \n",
       "8  Breezy Point-Belle Harbor-Rockaway Park-Broad ...  \n",
       "9   DUMBO-Vinegar Hill-Downtown Brooklyn-Boerum Hill  \n",
       "\n",
       "[10 rows x 60 columns]"
      ]
     },
     "execution_count": 3,
     "metadata": {},
     "output_type": "execute_result"
    }
   ],
   "source": [
    "df.head(10)"
   ]
  },
  {
   "cell_type": "markdown",
   "metadata": {},
   "source": [
    "### How many building permits are issued in NYC each year?\n",
    "Subset data for 'issued' permit status since we want to explore issued permit status, then count the number of permits by year."
   ]
  },
  {
   "cell_type": "code",
   "execution_count": 4,
   "metadata": {},
   "outputs": [
    {
     "data": {
      "text/plain": [
       "[' ',\n",
       " 'Bin #',\n",
       " 'House #',\n",
       " 'Street Name',\n",
       " 'Job #',\n",
       " 'Job doc. #',\n",
       " 'Job Type',\n",
       " 'Self_Cert',\n",
       " 'Block',\n",
       " 'Lot',\n",
       " 'Community Board',\n",
       " 'Zip Code',\n",
       " 'Bldg Type',\n",
       " 'Residential',\n",
       " 'Special District 1',\n",
       " 'Special District 2',\n",
       " 'Work Type',\n",
       " 'Permit Status',\n",
       " 'Filing Status',\n",
       " 'Permit Type',\n",
       " 'Permit Sequence #',\n",
       " 'Permit Subtype',\n",
       " 'Oil Gas',\n",
       " 'Site Fill',\n",
       " 'Filing Date',\n",
       " 'Issuance Date',\n",
       " 'Expiration Date',\n",
       " 'Job Start Date',\n",
       " \"Permittee's First Name\",\n",
       " \"Permittee's Last Name\",\n",
       " \"Permittee's Business Name\",\n",
       " \"Permittee's Phone #\",\n",
       " \"Permittee's License Type\",\n",
       " \"Permittee's License #\",\n",
       " 'Act as Superintendent',\n",
       " \"Permittee's Other Title\",\n",
       " 'HIC License',\n",
       " \"Site Safety Mgr's First Name\",\n",
       " \"Site Safety Mgr's Last Name\",\n",
       " 'Site Safety Mgr Business Name',\n",
       " 'Superintendent First & Last Name',\n",
       " 'Superintendent Business Name',\n",
       " \"Owner's Business Type\",\n",
       " 'Non-Profit',\n",
       " \"Owner's Business Name\",\n",
       " \"Owner's First Name\",\n",
       " \"Owner's Last Name\",\n",
       " \"Owner's House #\",\n",
       " \"Owner's House Street Name\",\n",
       " 'Owner’s House City',\n",
       " 'Owner’s House State',\n",
       " 'Owner’s House Zip Code',\n",
       " \"Owner's Phone #\",\n",
       " 'DOBRunDate',\n",
       " 'PERMIT_SI_NO',\n",
       " 'LATITUDE',\n",
       " 'LONGITUDE',\n",
       " 'COUNCIL_DISTRICT',\n",
       " 'CENSUS_TRACT',\n",
       " 'NTA_NAME']"
      ]
     },
     "execution_count": 4,
     "metadata": {},
     "output_type": "execute_result"
    }
   ],
   "source": [
    "list(df)"
   ]
  },
  {
   "cell_type": "code",
   "execution_count": 5,
   "metadata": {},
   "outputs": [],
   "source": [
    "df = df[df['Permit Status'] == 'ISSUED']"
   ]
  },
  {
   "cell_type": "code",
   "execution_count": 6,
   "metadata": {},
   "outputs": [],
   "source": [
    "df['Issuance Date'] = pd.to_datetime(df['Issuance Date'], infer_datetime_format=True)"
   ]
  },
  {
   "cell_type": "code",
   "execution_count": 7,
   "metadata": {},
   "outputs": [
    {
     "data": {
      "text/plain": [
       "2017    193541\n",
       "2016    188861\n",
       "2015    180406\n",
       "2014    168820\n",
       "2018    167702\n",
       "2013     99928\n",
       "2019     37769\n",
       "Name: Issuance Date, dtype: int64"
      ]
     },
     "execution_count": 7,
     "metadata": {},
     "output_type": "execute_result"
    }
   ],
   "source": [
    "df['Issuance Date'].dt.year.value_counts()"
   ]
  },
  {
   "cell_type": "markdown",
   "metadata": {},
   "source": [
    "### Calculate the percent change in permits issued over the years"
   ]
  },
  {
   "cell_type": "code",
   "execution_count": 8,
   "metadata": {},
   "outputs": [
    {
     "data": {
      "text/plain": [
       "2013         NaN\n",
       "2014    0.689416\n",
       "2015    0.068629\n",
       "2016    0.046867\n",
       "2017    0.024780\n",
       "2018   -0.133507\n",
       "2019   -0.774785\n",
       "Name: Issuance Date, dtype: float64"
      ]
     },
     "execution_count": 8,
     "metadata": {},
     "output_type": "execute_result"
    }
   ],
   "source": [
    "df['Issuance Date'].dt.year.value_counts().sort_index().pct_change() "
   ]
  },
  {
   "cell_type": "code",
   "execution_count": 9,
   "metadata": {},
   "outputs": [
    {
     "data": {
      "image/png": "[encoded data removed]",
      "text/plain": [
       "<Figure size 432x288 with 1 Axes>"
      ]
     },
     "metadata": {
      "needs_background": "light"
     },
     "output_type": "display_data"
    }
   ],
   "source": [
    "df['Issuance Date'].dt.year.value_counts().sort_index().plot(kind='bar')\n",
    "\n",
    "#Plot the data\n",
    "plt.title('Building Permits Issued per Year in New York City', size=14)\n",
    "plt.xlabel('Year', size=12)\n",
    "plt.ylabel('Count', size=12)\n",
    "plt.ylim(0,200000)\n",
    "plt.xticks(rotation='horizontal')\n",
    "plt.show()"
   ]
  },
  {
   "cell_type": "markdown",
   "metadata": {},
   "source": [
    "#### *Note: The data for 2019 only includes few weeks. Since the sample is so small, we should probably remove it from the analysis"
   ]
  },
  {
   "cell_type": "code",
   "execution_count": 10,
   "metadata": {},
   "outputs": [],
   "source": [
    "df = df[df['Issuance Date'].dt.year != 2019] "
   ]
  },
  {
   "cell_type": "markdown",
   "metadata": {},
   "source": [
    "### Identify types of permits that are often issued?"
   ]
  },
  {
   "cell_type": "code",
   "execution_count": 11,
   "metadata": {},
   "outputs": [
    {
     "data": {
      "text/plain": [
       "EW    482915\n",
       "PL    199569\n",
       "EQ    148442\n",
       "AL     71781\n",
       "NB     39021\n",
       "FO     31006\n",
       "SG     14986\n",
       "DM     11538\n",
       "Name: Permit Type, dtype: int64"
      ]
     },
     "execution_count": 11,
     "metadata": {},
     "output_type": "execute_result"
    }
   ],
   "source": [
    "df['Permit Type'].value_counts().sort_values(ascending=False) "
   ]
  },
  {
   "cell_type": "markdown",
   "metadata": {},
   "source": [
    "#### What exactly do these codes mean? We can use information posted by the Department of Buildings to find out.\n",
    "\n",
    "New York City Department of Buildings Permit Types\n",
    "\n",
    "https://www1.nyc.gov/site/buildings/industry/permit-type-and-job-status-codes.page\n",
    "\n",
    "Changing the names to make them more readable."
   ]
  },
  {
   "cell_type": "code",
   "execution_count": 12,
   "metadata": {},
   "outputs": [],
   "source": [
    "df['Permit Type'] = df['Permit Type'].map({'EW': 'Equipment Work', 'PL': 'Plumbing',\n",
    "                                            'EQ': 'Construction Equipment', 'AL': 'Alteration',\n",
    "                                            'NB': 'New Building', 'FO': 'Foundation',\n",
    "                                            'SG': 'Sign', 'DM': 'Demolition'})"
   ]
  },
  {
   "cell_type": "code",
   "execution_count": 13,
   "metadata": {},
   "outputs": [
    {
     "data": {
      "image/png": "[encoded data removed]",
      "text/plain": [
       "<Figure size 1008x504 with 1 Axes>"
      ]
     },
     "metadata": {
      "needs_background": "light"
     },
     "output_type": "display_data"
    }
   ],
   "source": [
    "#Plotting the data\n",
    "fig = plt.figure(figsize=(14,7))\n",
    "\n",
    "df['Permit Type'].value_counts().plot(kind='bar')\n",
    "\n",
    "plt.title('Permits Issued by Type', size=14)\n",
    "plt.ylabel('Count', size=12)\n",
    "plt.xticks(rotation='horizontal')\n",
    "plt.show()"
   ]
  },
  {
   "cell_type": "markdown",
   "metadata": {},
   "source": [
    "### Where were most building permits issued between 2013-2018?"
   ]
  },
  {
   "cell_type": "code",
   "execution_count": 14,
   "metadata": {},
   "outputs": [],
   "source": [
    "df.rename(columns={' ':'Borough'}, inplace=True)"
   ]
  },
  {
   "cell_type": "code",
   "execution_count": 15,
   "metadata": {},
   "outputs": [
    {
     "data": {
      "text/plain": [
       "MANHATTAN        421569\n",
       "BROOKLYN         259474\n",
       "QUEENS           197269\n",
       "BRONX             74798\n",
       "STATEN ISLAND     46148\n",
       "Name: Borough, dtype: int64"
      ]
     },
     "execution_count": 15,
     "metadata": {},
     "output_type": "execute_result"
    }
   ],
   "source": [
    "df['Borough'].value_counts()"
   ]
  },
  {
   "cell_type": "code",
   "execution_count": 16,
   "metadata": {},
   "outputs": [
    {
     "data": {
      "image/png": "[encoded data removed]",
      "text/plain": [
       "<Figure size 432x288 with 1 Axes>"
      ]
     },
     "metadata": {
      "needs_background": "light"
     },
     "output_type": "display_data"
    }
   ],
   "source": [
    "#Plotting the data\n",
    "df['Borough'].value_counts().plot(kind='bar')\n",
    "plt.title('Building Permits Issued by Borough', size=14)\n",
    "plt.ylabel('Count', size=12)\n",
    "plt.xticks(rotation='horizontal')\n",
    "plt.show()"
   ]
  },
  {
   "cell_type": "markdown",
   "metadata": {},
   "source": [
    "### What percentage of the total permits have been issued for Manhattan and Brooklyn?"
   ]
  },
  {
   "cell_type": "code",
   "execution_count": 17,
   "metadata": {},
   "outputs": [
    {
     "data": {
      "text/plain": [
       "0.42188203647106154"
      ]
     },
     "execution_count": 17,
     "metadata": {},
     "output_type": "execute_result"
    }
   ],
   "source": [
    "len(df[df['Borough'] == 'MANHATTAN']) / len(df)"
   ]
  },
  {
   "cell_type": "code",
   "execution_count": 18,
   "metadata": {},
   "outputs": [
    {
     "data": {
      "text/plain": [
       "0.259666672671122"
      ]
     },
     "execution_count": 18,
     "metadata": {},
     "output_type": "execute_result"
    }
   ],
   "source": [
    "len(df[df['Borough'] == 'BROOKLYN']) / len(df)"
   ]
  },
  {
   "cell_type": "markdown",
   "metadata": {},
   "source": [
    "### What percentage of borough permits are for residential projects?"
   ]
  },
  {
   "cell_type": "code",
   "execution_count": 19,
   "metadata": {},
   "outputs": [
    {
     "name": "stdout",
     "output_type": "stream",
     "text": [
      "\n",
      "BROOKLYN\n",
      "YES    0.648366\n",
      "Name: Residential, dtype: float64\n",
      "\n",
      "MANHATTAN\n",
      "YES    0.45848\n",
      "Name: Residential, dtype: float64\n",
      "\n",
      "QUEENS\n",
      "YES    0.61625\n",
      "Name: Residential, dtype: float64\n",
      "\n",
      "STATEN ISLAND\n",
      "YES    0.641133\n",
      "Name: Residential, dtype: float64\n",
      "\n",
      "BRONX\n",
      "YES    0.556298\n",
      "Name: Residential, dtype: float64\n"
     ]
    }
   ],
   "source": [
    "Boroughs = ['BROOKLYN', 'MANHATTAN', 'QUEENS', 'STATEN ISLAND', 'BRONX'] #list of borough names to pass to for loop\n",
    "\n",
    "for i in Boroughs: \n",
    "    print('\\n' + i) \n",
    "    print(df[df['Borough'] == i]['Residential'].value_counts() / len(df[df['Borough'] == i]))"
   ]
  },
  {
   "cell_type": "markdown",
   "metadata": {},
   "source": [
    "#### Looks like Manhattan is the only borough to issue more permits for commercial projects than residential!\n",
    "How many permits have been issued by zip code?"
   ]
  },
  {
   "cell_type": "code",
   "execution_count": 20,
   "metadata": {},
   "outputs": [
    {
     "data": {
      "text/plain": [
       "0.0           39\n",
       "4452.0         9\n",
       "10000.0       35\n",
       "10001.0    19374\n",
       "10002.0    11092\n",
       "Name: Zip Code, dtype: int64"
      ]
     },
     "execution_count": 20,
     "metadata": {},
     "output_type": "execute_result"
    }
   ],
   "source": [
    "df['Zip Code'].value_counts().sort_index().head(5)"
   ]
  },
  {
   "cell_type": "markdown",
   "metadata": {},
   "source": [
    "##### It is helpful to know the 5 zip codes with the most permits issues but it doesn't tell where they are in the city. Let's map the data to get an idea of where these are located, through visual inspection.\n",
    "\n",
    "Visualize permits by zip code\n",
    "In order to visualize the permits on a heatmap, we must merge permit count data with a geometric shape file for NYC zip code boundaries. Next we need to download the zip code boundary data from New York’s open data portal.\n",
    "\n",
    "New York City Zip Code Boundaries Shapefile\n",
    "\n",
    "Data Source: https://data.cityofnewyork.us/Business/Zip-Code-Boundaries/i8iw-xf4u/data"
   ]
  },
  {
   "cell_type": "code",
   "execution_count": 29,
   "metadata": {
    "scrolled": true
   },
   "outputs": [],
   "source": [
    "zip_codes = GeoDataFrame.from_file('C:/Users/ansha/ZIP_CODE_040114/ZIP_CODE_040114.shp')"
   ]
  },
  {
   "cell_type": "markdown",
   "metadata": {},
   "source": [
    "In order to merge two dataframes, there must be a shared column. The shared column must have the same data type.\n",
    "\n",
    "Ensure zip code column data types are the same for merging."
   ]
  },
  {
   "cell_type": "markdown",
   "metadata": {},
   "source": [
    "Count the number of occurrences for each zip code in the data frame, then convert the data series to a data frame for merging."
   ]
  },
  {
   "cell_type": "code",
   "execution_count": 31,
   "metadata": {},
   "outputs": [],
   "source": [
    "counts = df['Zip Code'].value_counts()\n",
    "counts = counts.to_frame(name='count')\n",
    "counts = counts.reset_index()"
   ]
  },
  {
   "cell_type": "markdown",
   "metadata": {},
   "source": [
    "Merge the number of occurences for each zip code, with the corresponding zip code polygon"
   ]
  },
  {
   "cell_type": "code",
   "execution_count": 32,
   "metadata": {},
   "outputs": [],
   "source": [
    "counts = GeoDataFrame(counts.merge(zip_codes, how='left', left_on='index', right_on='Zip Code'))"
   ]
  },
  {
   "cell_type": "markdown",
   "metadata": {},
   "source": [
    "Initially, when attempting to plot the counts, the code returned an error. Turns out there were more bad zip codes in the data, so we'll need to drop all NaNs in the geometry column."
   ]
  },
  {
   "cell_type": "code",
   "execution_count": 33,
   "metadata": {},
   "outputs": [],
   "source": [
    "counts = counts.dropna()"
   ]
  },
  {
   "cell_type": "code",
   "execution_count": 35,
   "metadata": {},
   "outputs": [
    {
     "data": {
      "image/png": "[encoded data removed]",
      "text/plain": [
       "<Figure size 576x576 with 1 Axes>"
      ]
     },
     "metadata": {
      "needs_background": "light"
     },
     "output_type": "display_data"
    }
   ],
   "source": [
    "#Plotting the data\n",
    "fig, ax = plt.subplots(figsize = (8,8))\n",
    "\n",
    "counts.plot(column='count', cmap='Blues',alpha=1,linewidth=0.1, ax=ax)\n",
    "\n",
    "plt.title('Building Permits by Zipcode', size=20)\n",
    "plt.axis('off')\n",
    "plt.show()"
   ]
  },
  {
   "cell_type": "markdown",
   "metadata": {},
   "source": [
    "#### The heatmap is darker in areas with more permits issued, and lighter in areas with fewer permits issued."
   ]
  },
  {
   "cell_type": "markdown",
   "metadata": {},
   "source": [
    "## Conclusion\n",
    "Between the years 2013-2019, the New York City Department of Buildings issued over 600,000 building permits, where 44% of them were for work in the borough of Manhattan. There was a 51% spike in the number of building permits issued from the year 2013 to 2014, which seems to be pretty significant. In further exploration, one might dig a bit deeper to find out why there was such an increase between those years.\n",
    "\n",
    "The New York City neighborhood Midtown East (zip code 10022) had the greatest number of permits issued between 2013- 2018. Midtown East is the home of the famous 5th Avenue shopping district, St. Patrick's Cathedral, and a host of other attractions. Considering the area generates a ton of traffic from tourists, shoppers, and workers alike, it is unsurprising that a high volume construction work is done to maintain the area and continue to drive the NYC economy. Such construction could have also been in anticipation of the new MTA yellow line train, the Q train, which runs along 2nd avenue on the east side and opened in January 2017.\n",
    "\n",
    "Visualizing the building permits issued by zipcode provides better context for where permits have been issued. Merging the building data with a shape file allows you to display the density of building permits issued and locate the hotspots. For someone unfamiliar with zip codes in New York, the visual representation provides clues to spatial positioning. For example, one can see that the darkest spot is right beneath Central Park, which is more informative than simply identifying the darkest spot as zip code 10022."
   ]
  },
  {
   "cell_type": "markdown",
   "metadata": {},
   "source": [
    "## Future Exploration\n",
    "This exploratory analysis can be used as a foundation for more sophisticated research. Here are a few potential areas of interest for future exploration:\n",
    "\n",
    "1. Trends for specific permit types over time\n",
    "2. Contractors that receive the most permits\n",
    "3. Trends for specific zip codes over time & reasons for the trend\n",
    "4. Distribution of initial vs renewal permits issued"
   ]
  },
  {
   "cell_type": "code",
   "execution_count": 55,
   "metadata": {},
   "outputs": [
    {
     "data": {
      "text/plain": [
       "False"
      ]
     },
     "execution_count": 55,
     "metadata": {},
     "output_type": "execute_result"
    }
   ],
   "source": [
    "import sys\n",
    "'geopandas' in sys.modules"
   ]
  },
  {
   "cell_type": "code",
   "execution_count": 36,
   "metadata": {},
   "outputs": [
    {
     "data": {
      "text/plain": [
       "Text(0, 0.5, 'Year')"
      ]
     },
     "execution_count": 36,
     "metadata": {},
     "output_type": "execute_result"
    },
    {
     "data": {
      "image/png": "[encoded data removed]",
      "text/plain": [
       "<Figure size 1080x504 with 1 Axes>"
      ]
     },
     "metadata": {
      "needs_background": "light"
     },
     "output_type": "display_data"
    }
   ],
   "source": [
    "fig, ax = plt.subplots(figsize=(15,7))\n",
    "df['year'] = df['Issuance Date'].dt.year\n",
    "df.groupby(['Permit Type','Borough']).count()['year'].unstack().plot(ax=ax)\n",
    "ax.set_title(\"Permit Type issued for the boroughs frm year 2013 to 2018\")\n",
    "ax.set_xlabel(\"Permit Type and Borough\")\n",
    "ax.set_ylabel(\"Year\")"
   ]
  }
 ],
 "metadata": {
  "kernelspec": {
   "display_name": "Python 3",
   "language": "python",
   "name": "python3"
  },
  "language_info": {
   "codemirror_mode": {
    "name": "ipython",
    "version": 3
   },
   "file_extension": ".py",
   "mimetype": "text/x-python",
   "name": "python",
   "nbconvert_exporter": "python",
   "pygments_lexer": "ipython3",
   "version": "3.7.0"
  }
 },
 "nbformat": 4,
 "nbformat_minor": 2
}
